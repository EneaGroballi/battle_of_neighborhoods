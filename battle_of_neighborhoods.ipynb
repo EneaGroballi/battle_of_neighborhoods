{
 "cells": [
  {
   "cell_type": "markdown",
   "metadata": {},
   "source": [
    "# Capstone Project - The Battle of the Neighborhoods (Week 2)\n",
    "### Applied Data Science Capstone by IBM/Coursera"
   ]
  },
  {
   "cell_type": "markdown",
   "metadata": {},
   "source": [
    "## Table of contents\n",
    "* [Introduction: Business Problem](#introduction)\n",
    "* [Data](#data)\n",
    "* [Methodology](#methodology)\n",
    "* [Analysis](#analysis)\n",
    "* [Results and Discussion](#results)\n",
    "* [Conclusion](#conclusion)"
   ]
  },
  {
   "cell_type": "markdown",
   "metadata": {},
   "source": [
    "## Introduction: Business Problem <a name=\"introduction\"></a>"
   ]
  },
  {
   "cell_type": "markdown",
   "metadata": {},
   "source": [
    "In this project we will try to find an optimal location for a **Vietnamese Restaurant** in **Montreal**, Canada.\n",
    "\n",
    "We will try to detect locations that aren't already crowded with restaurants and we are especially interested in areas that aren't crowded with Vietnamese Restaurants. We would prefer if the location is close to the center of the city, assuming the first two conditions are met.\n",
    "\n",
    "We will be using data science tools to find a few promising neighborhoods where we can open the Vietnamese Restaurant based on the criteria above."
   ]
  },
  {
   "cell_type": "markdown",
   "metadata": {},
   "source": [
    "## Data <a name=\"data\"></a>"
   ]
  },
  {
   "cell_type": "markdown",
   "metadata": {},
   "source": [
    "The factors below are what is going to influence our decision:\n",
    "* number of any type of restaurant in neighborhood\n",
    "* number of Vietnamese restaurants in neighborhood\n",
    "* distance of neighborhood from city center\n",
    "    \n",
    "We decided to just use a database found on https://worldpostalcode.com/canada/quebec/montreal for our neighborhoods that are linked to the postal codes. We will also need to use the following data sources:\n",
    "* Google Maps Api Geocoding to get latitude and longitude\n",
    "* Restaurant data from Foursquare API"
   ]
  },
  {
   "cell_type": "code",
   "execution_count": null,
   "metadata": {},
   "outputs": [],
   "source": []
  }
 ],
 "metadata": {
  "kernelspec": {
   "display_name": "Python 3",
   "language": "python",
   "name": "python3"
  },
  "language_info": {
   "codemirror_mode": {
    "name": "ipython",
    "version": 3
   },
   "file_extension": ".py",
   "mimetype": "text/x-python",
   "name": "python",
   "nbconvert_exporter": "python",
   "pygments_lexer": "ipython3",
   "version": "3.6.9"
  }
 },
 "nbformat": 4,
 "nbformat_minor": 2
}
